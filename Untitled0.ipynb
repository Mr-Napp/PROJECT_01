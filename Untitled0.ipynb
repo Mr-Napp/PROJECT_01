{
  "nbformat": 4,
  "nbformat_minor": 0,
  "metadata": {
    "colab": {
      "provenance": []
    },
    "kernelspec": {
      "name": "python3",
      "display_name": "Python 3"
    },
    "language_info": {
      "name": "python"
    }
  },
  "cells": [
    {
      "cell_type": "code",
      "metadata": {
        "colab": {
          "base_uri": "https://localhost:8080/"
        },
        "id": "bbd02004",
        "outputId": "23984558-e9d9-4469-d90a-999cdd0fb4d0"
      },
      "source": [
        "!pip install flask_sqlalchemy\n",
        "!pip install flask_login\n",
        "!pip install stripe"
      ],
      "execution_count": 4,
      "outputs": [
        {
          "output_type": "stream",
          "name": "stdout",
          "text": [
            "Requirement already satisfied: flask_sqlalchemy in /usr/local/lib/python3.12/dist-packages (3.1.1)\n",
            "Requirement already satisfied: flask>=2.2.5 in /usr/local/lib/python3.12/dist-packages (from flask_sqlalchemy) (3.1.2)\n",
            "Requirement already satisfied: sqlalchemy>=2.0.16 in /usr/local/lib/python3.12/dist-packages (from flask_sqlalchemy) (2.0.43)\n",
            "Requirement already satisfied: blinker>=1.9.0 in /usr/local/lib/python3.12/dist-packages (from flask>=2.2.5->flask_sqlalchemy) (1.9.0)\n",
            "Requirement already satisfied: click>=8.1.3 in /usr/local/lib/python3.12/dist-packages (from flask>=2.2.5->flask_sqlalchemy) (8.2.1)\n",
            "Requirement already satisfied: itsdangerous>=2.2.0 in /usr/local/lib/python3.12/dist-packages (from flask>=2.2.5->flask_sqlalchemy) (2.2.0)\n",
            "Requirement already satisfied: jinja2>=3.1.2 in /usr/local/lib/python3.12/dist-packages (from flask>=2.2.5->flask_sqlalchemy) (3.1.6)\n",
            "Requirement already satisfied: markupsafe>=2.1.1 in /usr/local/lib/python3.12/dist-packages (from flask>=2.2.5->flask_sqlalchemy) (3.0.2)\n",
            "Requirement already satisfied: werkzeug>=3.1.0 in /usr/local/lib/python3.12/dist-packages (from flask>=2.2.5->flask_sqlalchemy) (3.1.3)\n",
            "Requirement already satisfied: greenlet>=1 in /usr/local/lib/python3.12/dist-packages (from sqlalchemy>=2.0.16->flask_sqlalchemy) (3.2.4)\n",
            "Requirement already satisfied: typing-extensions>=4.6.0 in /usr/local/lib/python3.12/dist-packages (from sqlalchemy>=2.0.16->flask_sqlalchemy) (4.15.0)\n",
            "Collecting flask_login\n",
            "  Downloading Flask_Login-0.6.3-py3-none-any.whl.metadata (5.8 kB)\n",
            "Requirement already satisfied: Flask>=1.0.4 in /usr/local/lib/python3.12/dist-packages (from flask_login) (3.1.2)\n",
            "Requirement already satisfied: Werkzeug>=1.0.1 in /usr/local/lib/python3.12/dist-packages (from flask_login) (3.1.3)\n",
            "Requirement already satisfied: blinker>=1.9.0 in /usr/local/lib/python3.12/dist-packages (from Flask>=1.0.4->flask_login) (1.9.0)\n",
            "Requirement already satisfied: click>=8.1.3 in /usr/local/lib/python3.12/dist-packages (from Flask>=1.0.4->flask_login) (8.2.1)\n",
            "Requirement already satisfied: itsdangerous>=2.2.0 in /usr/local/lib/python3.12/dist-packages (from Flask>=1.0.4->flask_login) (2.2.0)\n",
            "Requirement already satisfied: jinja2>=3.1.2 in /usr/local/lib/python3.12/dist-packages (from Flask>=1.0.4->flask_login) (3.1.6)\n",
            "Requirement already satisfied: markupsafe>=2.1.1 in /usr/local/lib/python3.12/dist-packages (from Flask>=1.0.4->flask_login) (3.0.2)\n",
            "Downloading Flask_Login-0.6.3-py3-none-any.whl (17 kB)\n",
            "Installing collected packages: flask_login\n",
            "Successfully installed flask_login-0.6.3\n",
            "Collecting stripe\n",
            "  Downloading stripe-12.5.1-py2.py3-none-any.whl.metadata (2.9 kB)\n",
            "Requirement already satisfied: typing_extensions>=4.5.0 in /usr/local/lib/python3.12/dist-packages (from stripe) (4.15.0)\n",
            "Requirement already satisfied: requests>=2.20 in /usr/local/lib/python3.12/dist-packages (from stripe) (2.32.4)\n",
            "Requirement already satisfied: charset_normalizer<4,>=2 in /usr/local/lib/python3.12/dist-packages (from requests>=2.20->stripe) (3.4.3)\n",
            "Requirement already satisfied: idna<4,>=2.5 in /usr/local/lib/python3.12/dist-packages (from requests>=2.20->stripe) (3.10)\n",
            "Requirement already satisfied: urllib3<3,>=1.21.1 in /usr/local/lib/python3.12/dist-packages (from requests>=2.20->stripe) (2.5.0)\n",
            "Requirement already satisfied: certifi>=2017.4.17 in /usr/local/lib/python3.12/dist-packages (from requests>=2.20->stripe) (2025.8.3)\n",
            "Downloading stripe-12.5.1-py2.py3-none-any.whl (1.7 MB)\n",
            "\u001b[2K   \u001b[90m━━━━━━━━━━━━━━━━━━━━━━━━━━━━━━━━━━━━━━━━\u001b[0m \u001b[32m1.7/1.7 MB\u001b[0m \u001b[31m15.2 MB/s\u001b[0m eta \u001b[36m0:00:00\u001b[0m\n",
            "\u001b[?25hInstalling collected packages: stripe\n",
            "Successfully installed stripe-12.5.1\n"
          ]
        }
      ]
    },
    {
      "cell_type": "code",
      "execution_count": null,
      "metadata": {
        "colab": {
          "base_uri": "https://localhost:8080/"
        },
        "id": "X8KOTCerW2xL",
        "outputId": "9f61ace8-2d00-4ac5-bbc5-5d00f017609e"
      },
      "outputs": [
        {
          "output_type": "stream",
          "name": "stdout",
          "text": [
            " * Serving Flask app '__main__'\n",
            " * Debug mode: on\n"
          ]
        },
        {
          "output_type": "stream",
          "name": "stderr",
          "text": [
            "INFO:werkzeug:\u001b[31m\u001b[1mWARNING: This is a development server. Do not use it in a production deployment. Use a production WSGI server instead.\u001b[0m\n",
            " * Running on http://127.0.0.1:5000\n",
            "INFO:werkzeug:\u001b[33mPress CTRL+C to quit\u001b[0m\n",
            "INFO:werkzeug: * Restarting with watchdog (inotify)\n"
          ]
        }
      ],
      "source": [
        "from flask import Flask, render_template, redirect, url_for, session, request, flash\n",
        "from flask_sqlalchemy import SQLAlchemy\n",
        "from flask_login import LoginManager, UserMixin, login_user, login_required, logout_user, current_user\n",
        "import stripe, os\n",
        "\n",
        "app = Flask(__name__)\n",
        "app.config['SECRET_KEY'] = 'yoursecretkey'\n",
        "app.config['SQLALCHEMY_DATABASE_URI'] = 'sqlite:///site.db'\n",
        "db = SQLAlchemy(app)\n",
        "login_manager = LoginManager(app)\n",
        "login_manager.login_view = 'login'\n",
        "\n",
        "# Stripe keys\n",
        "stripe.api_key = os.getenv('STRIPE_SECRET_KEY', 'sk_test_123')\n",
        "YOUR_DOMAIN = \"http://127.0.0.1:5000\"\n",
        "\n",
        "class User(db.Model, UserMixin):\n",
        "    id = db.Column(db.Integer, primary_key=True)\n",
        "    username = db.Column(db.String(150), unique=True, nullable=False)\n",
        "    password = db.Column(db.String(150), nullable=False)\n",
        "\n",
        "class Product(db.Model):\n",
        "    id = db.Column(db.Integer, primary_key=True)\n",
        "    name = db.Column(db.String(100), nullable=False)\n",
        "    price = db.Column(db.Integer, nullable=False)  # Price in cents\n",
        "    image = db.Column(db.String(200), nullable=True)\n",
        "\n",
        "@login_manager.user_loader\n",
        "def load_user(user_id):\n",
        "    return User.query.get(int(user_id))\n",
        "\n",
        "@app.route('/')\n",
        "def home():\n",
        "    products = Product.query.all()\n",
        "    return render_template('home.html', products=products)\n",
        "\n",
        "@app.route('/add_to_cart/<int:product_id>')\n",
        "def add_to_cart(product_id):\n",
        "    cart = session.get('cart', [])\n",
        "    cart.append(product_id)\n",
        "    session['cart'] = cart\n",
        "    flash('Item added to cart!', 'success')\n",
        "    return redirect(url_for('home'))\n",
        "\n",
        "@app.route('/cart')\n",
        "def cart():\n",
        "    cart = session.get('cart', [])\n",
        "    products = Product.query.filter(Product.id.in_(cart)).all()\n",
        "    total = sum([p.price for p in products])\n",
        "    return render_template('cart.html', products=products, total=total)\n",
        "\n",
        "@app.route('/create-checkout-session', methods=['POST'])\n",
        "def create_checkout_session():\n",
        "    cart = session.get('cart', [])\n",
        "    products = Product.query.filter(Product.id.in_(cart)).all()\n",
        "    line_items = [{\n",
        "        'price_data': {\n",
        "            'currency': 'usd',\n",
        "            'product_data': {'name': p.name},\n",
        "            'unit_amount': p.price,\n",
        "        },\n",
        "        'quantity': 1,\n",
        "    } for p in products]\n",
        "\n",
        "    checkout_session = stripe.checkout.Session.create(\n",
        "        payment_method_types=['card'],\n",
        "        line_items=line_items,\n",
        "        mode='payment',\n",
        "        success_url=YOUR_DOMAIN + '/success',\n",
        "        cancel_url=YOUR_DOMAIN + '/cart',\n",
        "    )\n",
        "    return redirect(checkout_session.url, code=303)\n",
        "\n",
        "@app.route('/success')\n",
        "def success():\n",
        "    session['cart'] = []\n",
        "    return render_template('success.html')\n",
        "\n",
        "if __name__ == \"__main__\":\n",
        "    app.run(debug=True)"
      ]
    }
  ]
}